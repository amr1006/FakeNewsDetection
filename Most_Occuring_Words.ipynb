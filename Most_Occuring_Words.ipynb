{
 "cells": [
  {
   "cell_type": "code",
   "execution_count": 1,
   "metadata": {
    "collapsed": true
   },
   "outputs": [],
   "source": [
    "import numpy as np\n",
    "import pandas as pd"
   ]
  },
  {
   "cell_type": "code",
   "execution_count": 2,
   "metadata": {
    "collapsed": true
   },
   "outputs": [],
   "source": [
    "import pickle\n",
    "import nltk\n",
    "from nltk import FreqDist\n",
    "from sklearn.feature_extraction.stop_words import ENGLISH_STOP_WORDS"
   ]
  },
  {
   "cell_type": "code",
   "execution_count": 3,
   "metadata": {
    "collapsed": true
   },
   "outputs": [],
   "source": [
    "df = pd.read_csv('final.csv', encoding='utf-8')"
   ]
  },
  {
   "cell_type": "code",
   "execution_count": 4,
   "metadata": {
    "collapsed": true
   },
   "outputs": [],
   "source": [
    "stopwords=([list(x) for x in [ENGLISH_STOP_WORDS]])[0]"
   ]
  },
  {
   "cell_type": "code",
   "execution_count": null,
   "metadata": {
    "collapsed": true
   },
   "outputs": [],
   "source": []
  },
  {
   "cell_type": "code",
   "execution_count": 5,
   "metadata": {
    "collapsed": true
   },
   "outputs": [],
   "source": [
    "def tokenize(text):\n",
    "    text = nltk.sent_tokenize(text)\n",
    "    \n",
    "    new_text = []\n",
    "    for sentence in text:\n",
    "        sentence = nltk.word_tokenize(sentence)\n",
    "        sentence = [word for word in sentence if word not in stopwords]\n",
    "        sentence = [word for word in sentence if len(word)>1]\n",
    "        new_text.append(sentence)\n",
    "        \n",
    "    return new_text"
   ]
  },
  {
   "cell_type": "code",
   "execution_count": 49,
   "metadata": {
    "collapsed": true
   },
   "outputs": [],
   "source": [
    "tokens = df['text'].apply(tokenize)"
   ]
  },
  {
   "cell_type": "code",
   "execution_count": 50,
   "metadata": {
    "collapsed": true
   },
   "outputs": [],
   "source": [
    "words = [word for sent in tokens for word in sent]\n",
    "words = [word for sent in all_words for word in sent]"
   ]
  },
  {
   "cell_type": "code",
   "execution_count": 51,
   "metadata": {},
   "outputs": [
    {
     "data": {
      "text/plain": [
       "7000686"
      ]
     },
     "execution_count": 51,
     "metadata": {},
     "output_type": "execute_result"
    }
   ],
   "source": [
    "len(words)"
   ]
  },
  {
   "cell_type": "code",
   "execution_count": 52,
   "metadata": {},
   "outputs": [
    {
     "data": {
      "text/plain": [
       "230146"
      ]
     },
     "execution_count": 52,
     "metadata": {},
     "output_type": "execute_result"
    }
   ],
   "source": [
    "freqdist = FreqDist(words)\n",
    "len(freqdist)"
   ]
  },
  {
   "cell_type": "code",
   "execution_count": 53,
   "metadata": {},
   "outputs": [
    {
     "data": {
      "text/plain": [
       "[('say', 87000),\n",
       " ('trump', 49566),\n",
       " ('people', 36936),\n",
       " ('time', 27145),\n",
       " ('year', 24386),\n",
       " ('like', 23492),\n",
       " ('clinton', 20754),\n",
       " ('know', 20070),\n",
       " ('state', 19161),\n",
       " ('work', 18349),\n",
       " ('think', 17675),\n",
       " ('country', 16955),\n",
       " ('new', 16729),\n",
       " ('good', 16684),\n",
       " ('way', 16190),\n",
       " ('want', 15346),\n",
       " ('day', 14754),\n",
       " ('include', 14064),\n",
       " ('american', 13911),\n",
       " ('tell', 13822),\n",
       " ('report', 13716),\n",
       " ('need', 13705),\n",
       " ('world', 13436),\n",
       " ('election', 12832),\n",
       " ('government', 12697),\n",
       " ('vote', 12502),\n",
       " ('thing', 12190),\n",
       " ('woman', 12071),\n",
       " ('right', 11975),\n",
       " ('campaign', 11834)]"
      ]
     },
     "execution_count": 53,
     "metadata": {},
     "output_type": "execute_result"
    }
   ],
   "source": [
    "freqdist.most_common(30)"
   ]
  },
  {
   "cell_type": "code",
   "execution_count": null,
   "metadata": {
    "collapsed": true
   },
   "outputs": [],
   "source": []
  },
  {
   "cell_type": "code",
   "execution_count": 10,
   "metadata": {
    "collapsed": true
   },
   "outputs": [],
   "source": [
    "fileObject = open('fake_unigram_text','rb')  \n",
    "fake = pickle.load(fileObject)"
   ]
  },
  {
   "cell_type": "code",
   "execution_count": 13,
   "metadata": {
    "collapsed": true
   },
   "outputs": [],
   "source": [
    "fake = pd.DataFrame(fake,columns=['text'])"
   ]
  },
  {
   "cell_type": "code",
   "execution_count": 39,
   "metadata": {
    "collapsed": true
   },
   "outputs": [],
   "source": [
    "tokens = fake['text'].apply(tokenize)"
   ]
  },
  {
   "cell_type": "code",
   "execution_count": 40,
   "metadata": {
    "collapsed": true
   },
   "outputs": [],
   "source": [
    "words = [word for sent in tokens for word in sent]\n",
    "words = [word for sent in all_words for word in sent]"
   ]
  },
  {
   "cell_type": "code",
   "execution_count": 31,
   "metadata": {},
   "outputs": [
    {
     "data": {
      "text/plain": [
       "140624"
      ]
     },
     "execution_count": 31,
     "metadata": {},
     "output_type": "execute_result"
    }
   ],
   "source": [
    "freqdist = FreqDist(all_words)\n",
    "len(freqdist)"
   ]
  },
  {
   "cell_type": "code",
   "execution_count": null,
   "metadata": {
    "collapsed": true
   },
   "outputs": [],
   "source": []
  },
  {
   "cell_type": "code",
   "execution_count": 42,
   "metadata": {},
   "outputs": [
    {
     "data": {
      "text/plain": [
       "[('say', 87000),\n",
       " ('trump', 49566),\n",
       " ('people', 36936),\n",
       " ('time', 27145),\n",
       " ('year', 24386),\n",
       " ('like', 23492),\n",
       " ('clinton', 20754),\n",
       " ('know', 20070),\n",
       " ('state', 19161),\n",
       " ('work', 18349),\n",
       " ('think', 17675),\n",
       " ('country', 16955),\n",
       " ('new', 16729),\n",
       " ('good', 16684),\n",
       " ('way', 16190),\n",
       " ('want', 15346),\n",
       " ('day', 14754),\n",
       " ('include', 14064),\n",
       " ('american', 13911),\n",
       " ('tell', 13822),\n",
       " ('report', 13716),\n",
       " ('need', 13705),\n",
       " ('world', 13436),\n",
       " ('election', 12832),\n",
       " ('government', 12697),\n",
       " ('vote', 12502),\n",
       " ('thing', 12190),\n",
       " ('woman', 12071),\n",
       " ('right', 11975),\n",
       " ('campaign', 11834)]"
      ]
     },
     "execution_count": 42,
     "metadata": {},
     "output_type": "execute_result"
    }
   ],
   "source": [
    "freqdist.most_common(30)"
   ]
  },
  {
   "cell_type": "code",
   "execution_count": null,
   "metadata": {
    "collapsed": true
   },
   "outputs": [],
   "source": []
  },
  {
   "cell_type": "code",
   "execution_count": 33,
   "metadata": {},
   "outputs": [
    {
     "data": {
      "text/plain": [
       "3912332"
      ]
     },
     "execution_count": 33,
     "metadata": {},
     "output_type": "execute_result"
    }
   ],
   "source": []
  },
  {
   "cell_type": "code",
   "execution_count": 19,
   "metadata": {
    "collapsed": true
   },
   "outputs": [],
   "source": [
    "fileObject = open('real_unigram_text','rb')  \n",
    "real = pickle.load(fileObject)"
   ]
  },
  {
   "cell_type": "code",
   "execution_count": 20,
   "metadata": {
    "collapsed": true
   },
   "outputs": [],
   "source": [
    "real = pd.DataFrame(real,columns=['text'])"
   ]
  },
  {
   "cell_type": "code",
   "execution_count": 43,
   "metadata": {
    "collapsed": true
   },
   "outputs": [],
   "source": [
    "tokens = real['text'].apply(tokenize)"
   ]
  },
  {
   "cell_type": "code",
   "execution_count": 44,
   "metadata": {
    "collapsed": true
   },
   "outputs": [],
   "source": [
    "words = [word for sent in tokens for word in sent]\n",
    "words = [word for sent in all_words for word in sent]"
   ]
  },
  {
   "cell_type": "code",
   "execution_count": 46,
   "metadata": {},
   "outputs": [
    {
     "data": {
      "text/plain": [
       "75419"
      ]
     },
     "execution_count": 46,
     "metadata": {},
     "output_type": "execute_result"
    }
   ],
   "source": [
    "freqdist = FreqDist(all_words)\n",
    "len(freqdist)"
   ]
  },
  {
   "cell_type": "code",
   "execution_count": 47,
   "metadata": {},
   "outputs": [
    {
     "data": {
      "text/plain": [
       "[('say', 72167),\n",
       " ('trump', 49236),\n",
       " ('people', 22757),\n",
       " ('state', 21322),\n",
       " ('year', 21124),\n",
       " ('clinton', 19693),\n",
       " ('new', 18650),\n",
       " ('time', 17768),\n",
       " ('like', 16553),\n",
       " ('tell', 13269),\n",
       " ('president', 12620),\n",
       " ('election', 12234),\n",
       " ('know', 11951),\n",
       " ('campaign', 11683),\n",
       " ('work', 11617),\n",
       " ('day', 11541),\n",
       " ('woman', 10975),\n",
       " ('think', 10968),\n",
       " ('good', 10597),\n",
       " ('republican', 10350),\n",
       " ('mr', 10005),\n",
       " ('want', 9951),\n",
       " ('country', 9837),\n",
       " ('american', 9488),\n",
       " ('way', 9455),\n",
       " ('report', 9195),\n",
       " ('vote', 9031),\n",
       " ('win', 8908),\n",
       " ('include', 8449),\n",
       " ('city', 8442)]"
      ]
     },
     "execution_count": 47,
     "metadata": {},
     "output_type": "execute_result"
    }
   ],
   "source": [
    "freqdist.most_common(30)"
   ]
  }
 ],
 "metadata": {
  "kernelspec": {
   "display_name": "Python 3",
   "language": "python",
   "name": "python3"
  },
  "language_info": {
   "codemirror_mode": {
    "name": "ipython",
    "version": 3
   },
   "file_extension": ".py",
   "mimetype": "text/x-python",
   "name": "python",
   "nbconvert_exporter": "python",
   "pygments_lexer": "ipython3",
   "version": "3.6.1"
  }
 },
 "nbformat": 4,
 "nbformat_minor": 2
}
